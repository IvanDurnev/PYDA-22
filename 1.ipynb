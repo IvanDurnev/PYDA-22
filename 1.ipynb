{
 "cells": [
  {
   "cell_type": "markdown",
   "metadata": {},
   "source": [
    "<h1>Домашнее задание по теме «Основы Python»</h1>"
   ]
  },
  {
   "cell_type": "markdown",
   "metadata": {},
   "source": [
    "<h2>Задание 1</h2>"
   ]
  },
  {
   "cell_type": "code",
   "execution_count": 47,
   "metadata": {},
   "outputs": [],
   "source": [
    "phrase_1 = 'Насколько проще'\n",
    "phrase_2 = '640Кб должно хватить для любых задач. Билл Гейтс (по легенде)'"
   ]
  },
  {
   "cell_type": "code",
   "execution_count": 48,
   "metadata": {},
   "outputs": [
    {
     "name": "stdout",
     "output_type": "stream",
     "text": [
      "Фраза 2 длиннее Фразы 1\n"
     ]
    }
   ],
   "source": [
    "if len(phrase_1) > len(phrase_2):\n",
    "    print('Фраза 1 длиннее Фразы 2')\n",
    "elif len(phrase_1) < len(phrase_2):\n",
    "    print('Фраза 2 длиннее Фразы 1')\n",
    "else:\n",
    "    print('Фразы равны')"
   ]
  },
  {
   "cell_type": "markdown",
   "metadata": {},
   "source": [
    "<h2>Задание 2</h2>"
   ]
  },
  {
   "cell_type": "code",
   "execution_count": 69,
   "metadata": {},
   "outputs": [],
   "source": [
    "year = 2021"
   ]
  },
  {
   "cell_type": "code",
   "execution_count": 70,
   "metadata": {
    "scrolled": true
   },
   "outputs": [
    {
     "name": "stdout",
     "output_type": "stream",
     "text": [
      "Год 2021 невисокосный\n"
     ]
    }
   ],
   "source": [
    "if year%4 > 0:\n",
    "    print(f'Год {year} - невисокосный')\n",
    "else:\n",
    "    print(f'Год {year} - високосный')\n"
   ]
  },
  {
   "cell_type": "markdown",
   "metadata": {},
   "source": [
    "<h2>Задание 3</h2>"
   ]
  },
  {
   "cell_type": "code",
   "execution_count": 89,
   "metadata": {},
   "outputs": [],
   "source": [
    "from datetime import datetime"
   ]
  },
  {
   "cell_type": "code",
   "execution_count": 107,
   "metadata": {},
   "outputs": [],
   "source": [
    "zodiac = {\n",
    "    'Овен': {'start': '21.03', 'fin': '20.04'},\n",
    "    'Телец': {'start': '21.04', 'fin': '21.05'},\n",
    "    'Близнецы': {'start': '22.05', 'fin': '21.06'},\n",
    "    'Рак': {'start': '22.06', 'fin': '22.07'},\n",
    "    'Лев': {'start': '23.07', 'fin': '21.08'},\n",
    "    'Дева': {'start': '22.08', 'fin': '23.09'},\n",
    "    'Весы': {'start': '24.09', 'fin': '23.10'},\n",
    "    'Скорпион': {'start': '24.10', 'fin': '22.11'},\n",
    "    'Стрелец': {'start': '23.11', 'fin': '22.12'},\n",
    "    'Козерог': {'start': '23.12', 'fin': '20.01'},\n",
    "    'Водолей': {'start': '21.01', 'fin': '19.02'},\n",
    "    'Рыбы': {'start': '20.02', 'fin': '20.03'}\n",
    "}\n",
    "\n",
    "month_name = ['январь', 'февраль', 'март', 'апрель', 'май', 'июнь', 'июль', 'август', 'сентябрь', 'октябрь', 'ноябрь', 'декабрь',] "
   ]
  },
  {
   "cell_type": "code",
   "execution_count": 118,
   "metadata": {},
   "outputs": [
    {
     "name": "stdout",
     "output_type": "stream",
     "text": [
      "Введите день: 30\n"
     ]
    }
   ],
   "source": [
    "day = input('Введите день: ')"
   ]
  },
  {
   "cell_type": "code",
   "execution_count": 122,
   "metadata": {},
   "outputs": [
    {
     "name": "stdout",
     "output_type": "stream",
     "text": [
      "Введите месяц (буквами без ошибок, пожалуйста): август\n"
     ]
    }
   ],
   "source": [
    "month = input('Введите месяц (буквами без ошибок, пожалуйста): ')"
   ]
  },
  {
   "cell_type": "code",
   "execution_count": 123,
   "metadata": {},
   "outputs": [
    {
     "name": "stdout",
     "output_type": "stream",
     "text": [
      "Дева\n"
     ]
    }
   ],
   "source": [
    "month_number = month_name.index(month.lower())+1\n",
    "birth_date = datetime(year=1, month=month_number, day=int(day))\n",
    "\n",
    "for z in zodiac:\n",
    "    start_date = datetime(year=1, \n",
    "                          month=int(zodiac[z]['start'].split('.')[1]), \n",
    "                          day=int(zodiac[z]['start'].split('.')[0]))\n",
    "    fin_date = datetime(year=1, \n",
    "                        month=int(zodiac[z]['fin'].split('.')[1]), \n",
    "                        day=int(zodiac[z]['fin'].split('.')[0]))\n",
    "    if start_date <= birth_date <= fin_date:\n",
    "        print(z)\n"
   ]
  },
  {
   "cell_type": "markdown",
   "metadata": {},
   "source": [
    "<h2>Задание 4</h2>"
   ]
  },
  {
   "cell_type": "code",
   "execution_count": 148,
   "metadata": {},
   "outputs": [],
   "source": [
    "width = 5\n",
    "length = 201\n",
    "height = 51"
   ]
  },
  {
   "cell_type": "code",
   "execution_count": 149,
   "metadata": {},
   "outputs": [
    {
     "name": "stdout",
     "output_type": "stream",
     "text": [
      "Упаковка для лыж\n"
     ]
    }
   ],
   "source": [
    "if width < 15 and length < 15 and height < 15:\n",
    "    print('Коробка №1')\n",
    "elif 15 < width < 50 or 15 < length < 50 or 15 < height < 50:\n",
    "    print('Коробка №2')\n",
    "elif length > 200:\n",
    "    print('Упаковка для лыж')\n",
    "else:\n",
    "    print('Стандартная коробка №3')"
   ]
  },
  {
   "cell_type": "markdown",
   "metadata": {},
   "source": [
    "<h2>Задание 5</h2>"
   ]
  },
  {
   "cell_type": "code",
   "execution_count": 158,
   "metadata": {},
   "outputs": [
    {
     "name": "stdout",
     "output_type": "stream",
     "text": [
      "Этот номер - счастливый\n"
     ]
    }
   ],
   "source": [
    "number = 123321\n",
    "\n",
    "num_list = list(str(number))\n",
    "\n",
    "if int(num_list[0])+int(num_list[1])+int(num_list[2]) == int(num_list[3])+int(num_list[4])+int(num_list[5]):\n",
    "    print('Этот номер - счастливый')\n",
    "else:\n",
    "    print('Этот номер - не счастливый')"
   ]
  }
 ],
 "metadata": {
  "kernelspec": {
   "display_name": "Python 3",
   "language": "python",
   "name": "python3"
  },
  "language_info": {
   "codemirror_mode": {
    "name": "ipython",
    "version": 3
   },
   "file_extension": ".py",
   "mimetype": "text/x-python",
   "name": "python",
   "nbconvert_exporter": "python",
   "pygments_lexer": "ipython3",
   "version": "3.8.6"
  }
 },
 "nbformat": 4,
 "nbformat_minor": 1
}
