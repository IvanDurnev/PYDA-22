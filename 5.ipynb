{
 "cells": [
  {
   "cell_type": "markdown",
   "id": "996cf177",
   "metadata": {},
   "source": [
    "<h1>Домашнее задание к лекции Работа с файловой системой и модули</h1>"
   ]
  },
  {
   "cell_type": "markdown",
   "id": "6a41f750",
   "metadata": {},
   "source": [
    "<h2>Задание 1</h2>"
   ]
  },
  {
   "cell_type": "code",
   "execution_count": 2,
   "id": "54d2ea04",
   "metadata": {
    "scrolled": true
   },
   "outputs": [],
   "source": [
    "import json\n",
    "from pprint import pprint\n",
    "\n",
    "purchases = {}\n",
    "with open('files/purchase_log.txt', 'r') as pf:\n",
    "    draft = pf.readlines()\n",
    "    for line in draft:\n",
    "        jline = json.loads(line)\n",
    "        purchases[jline['user_id']] = jline['category']\n",
    "# pprint(purchases)"
   ]
  },
  {
   "cell_type": "markdown",
   "id": "c136c730",
   "metadata": {},
   "source": [
    "<h2>Задание 2</h2>"
   ]
  },
  {
   "cell_type": "code",
   "execution_count": 14,
   "id": "9cf2df42",
   "metadata": {},
   "outputs": [],
   "source": [
    "import csv\n",
    "\n",
    "with open('files/visit_log.csv', 'r') as vlf:\n",
    "    reader = csv.reader(vlf)\n",
    "    with open('files/funnel.csv', 'a', newline='') as funf:\n",
    "        writer = csv.writer(funf, delimiter=',')\n",
    "    \n",
    "        for row in reader:\n",
    "                line = \",\".join(row)\n",
    "                if line.split(',')[0] in purchases:\n",
    "                    writer.writerow([line.split(\",\")[0],line.split(\",\")[1],purchases[line.split(\",\")[0]]])  \n",
    "                else:\n",
    "                    writer.writerow([line.split(\",\")[0],line.split(\",\")[1]])"
   ]
  }
 ],
 "metadata": {
  "kernelspec": {
   "display_name": "Python 3",
   "language": "python",
   "name": "python3"
  },
  "language_info": {
   "codemirror_mode": {
    "name": "ipython",
    "version": 3
   },
   "file_extension": ".py",
   "mimetype": "text/x-python",
   "name": "python",
   "nbconvert_exporter": "python",
   "pygments_lexer": "ipython3",
   "version": "3.8.6"
  }
 },
 "nbformat": 4,
 "nbformat_minor": 5
}
