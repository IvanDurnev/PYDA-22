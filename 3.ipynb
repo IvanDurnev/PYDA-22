{
 "cells": [
  {
   "cell_type": "markdown",
   "id": "478f37c8",
   "metadata": {},
   "source": [
    "<h1>Домашнее задание «Управляющие конструкции и коллекции» часть 2</h1>"
   ]
  },
  {
   "cell_type": "markdown",
   "id": "1263cdb1",
   "metadata": {},
   "source": [
    "<h2>Задание 1</h2>"
   ]
  },
  {
   "cell_type": "code",
   "execution_count": 55,
   "id": "ccff5add",
   "metadata": {},
   "outputs": [
    {
     "name": "stdout",
     "output_type": "stream",
     "text": [
      "{98, 35, 15, 213, 54, 119}\n"
     ]
    }
   ],
   "source": [
    "ids = {'user1': [213, 213, 213, 15, 213], \n",
    "       'user2': [54, 54, 119, 119, 119], \n",
    "       'user3': [213, 98, 98, 35]}\n",
    "\n",
    "result = []\n",
    "for user in ids:\n",
    "    result = result + ids[user]\n",
    "\n",
    "print(set(result))"
   ]
  },
  {
   "cell_type": "markdown",
   "id": "9d9fac30",
   "metadata": {},
   "source": [
    "<h2>Задание 2</h2>"
   ]
  },
  {
   "cell_type": "code",
   "execution_count": 56,
   "id": "c792f5a7",
   "metadata": {
    "scrolled": true
   },
   "outputs": [
    {
     "name": "stdout",
     "output_type": "stream",
     "text": [
      "Поисковых запросов, содержащих 1 слов(а): 18.18%\n",
      "Поисковых запросов, содержащих 2 слов(а): 27.27%\n",
      "Поисковых запросов, содержащих 3 слов(а): 45.45%\n",
      "Поисковых запросов, содержащих 4 слов(а): 9.09%\n"
     ]
    }
   ],
   "source": [
    "queries = [\n",
    "    'хоккей',\n",
    "    'что где когда',\n",
    "    'смотреть сериалы онлайн',\n",
    "    'новости спорта',\n",
    "    'афиша кино',\n",
    "    'курс доллара',\n",
    "    'сериалы этим летом',\n",
    "    'курс по питону',\n",
    "    'сериалы про спорт',\n",
    "    'футбол',\n",
    "    'игра престолов последний сезон'\n",
    "]\n",
    "\n",
    "words_amount = {}\n",
    "\n",
    "for item in queries:\n",
    "    amount = len(item.split(' '))\n",
    "    if amount in words_amount:\n",
    "        words_amount[amount] += 1\n",
    "    else:\n",
    "        words_amount[amount] = 1\n",
    "\n",
    "keys = list(words_amount.keys())\n",
    "keys.sort()\n",
    "\n",
    "for key in keys:\n",
    "    print(f'Поисковых запросов, содержащих {key} слов(а): {round(words_amount[key] / len(queries) * 100, 2)}%')"
   ]
  },
  {
   "cell_type": "markdown",
   "id": "322c09e5",
   "metadata": {},
   "source": [
    "<h2>Задание 3</h2>"
   ]
  },
  {
   "cell_type": "code",
   "execution_count": 60,
   "id": "fcba3273",
   "metadata": {},
   "outputs": [
    {
     "name": "stdout",
     "output_type": "stream",
     "text": [
      "{'vk': {'revenue': 103, 'cost': 98, 'ROI': 5.1}, 'yandex': {'revenue': 179, 'cost': 153, 'ROI': 16.99}, 'facebook': {'revenue': 103, 'cost': 110, 'ROI': -6.36}, 'adwords': {'revenue': 35, 'cost': 34, 'ROI': 2.94}, 'twitter': {'revenue': 11, 'cost': 24, 'ROI': -54.17}}\n"
     ]
    }
   ],
   "source": [
    "results = {\n",
    "    'vk': {'revenue': 103, 'cost': 98},\n",
    "    'yandex': {'revenue': 179, 'cost': 153},\n",
    "    'facebook': {'revenue': 103, 'cost': 110},\n",
    "    'adwords': {'revenue': 35, 'cost': 34},\n",
    "    'twitter': {'revenue': 11, 'cost': 24},\n",
    "}\n",
    "\n",
    "for item in results:\n",
    "    results[item]['ROI'] = round((results[item]['revenue']/results[item]['cost']-1)*100, 2)\n",
    "    \n",
    "print(results)"
   ]
  },
  {
   "cell_type": "markdown",
   "id": "87b7e7bd",
   "metadata": {},
   "source": [
    "<h2>Задание 4</h2>"
   ]
  },
  {
   "cell_type": "code",
   "execution_count": 71,
   "id": "7916f9fd",
   "metadata": {},
   "outputs": [
    {
     "name": "stdout",
     "output_type": "stream",
     "text": [
      "Максимальный объем продаж на рекламном канале: vk\n",
      "Максимальный объем продаж на рекламном канале: google\n"
     ]
    }
   ],
   "source": [
    "stats = {'facebook': 55, 'yandex': 115, 'vk': 120, 'google': 120, 'email': 42, 'ok': 98}\n",
    "\n",
    "vals = list(stats.values())\n",
    "vals.sort()\n",
    "max_value = vals[-1]\n",
    "\n",
    "print(f'Максимальный объем продаж на следующих рекламных каналах:\n",
    "for item in stats:\n",
    "    if stats[item] == max_value:\n",
    "        print(f'Максимальный объем продаж на рекламном канале: {item}')"
   ]
  }
 ],
 "metadata": {
  "kernelspec": {
   "display_name": "Python 3",
   "language": "python",
   "name": "python3"
  },
  "language_info": {
   "codemirror_mode": {
    "name": "ipython",
    "version": 3
   },
   "file_extension": ".py",
   "mimetype": "text/x-python",
   "name": "python",
   "nbconvert_exporter": "python",
   "pygments_lexer": "ipython3",
   "version": "3.8.6"
  }
 },
 "nbformat": 4,
 "nbformat_minor": 5
}
