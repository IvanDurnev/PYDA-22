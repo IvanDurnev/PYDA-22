{
 "cells": [
  {
   "cell_type": "markdown",
   "id": "686c6baf",
   "metadata": {},
   "source": [
    "<h1>Домашнее задание к лекции «Функции»</h1>"
   ]
  },
  {
   "cell_type": "code",
   "execution_count": 1,
   "id": "d3a4ed3b",
   "metadata": {},
   "outputs": [],
   "source": [
    "documents = [\n",
    "    {'type': 'passport', 'number': '2207 876234', 'name': 'Василий Гупкин'},\n",
    "    {'type': 'invoice', 'number': '11-2', 'name': 'Геннадий Покемонов'},\n",
    "    {'type': 'insurance', 'number': '10006', 'name': 'Аристарх Павлов'}\n",
    "]\n",
    "\n",
    "directories = {\n",
    "    '1': ['2207 876234', '11-2'],\n",
    "    '2': ['10006'],\n",
    "    '3': []\n",
    "}"
   ]
  },
  {
   "cell_type": "code",
   "execution_count": null,
   "id": "3847cdf4",
   "metadata": {},
   "outputs": [],
   "source": [
    "def find_owner():\n",
    "    print('---Ищем владельца---')\n",
    "    doc_num = input('Введите номер документа: ')\n",
    "    found = False\n",
    "    for doc in documents:\n",
    "        if doc['number'] == doc_num:\n",
    "            print(f'Владелец документа: {doc[\"name\"]}')\n",
    "            found = True\n",
    "    if not found:\n",
    "        print('Документа с таким номером не существует')"
   ]
  },
  {
   "cell_type": "code",
   "execution_count": 48,
   "id": "5a971be4",
   "metadata": {},
   "outputs": [],
   "source": [
    "def find_dir(doc_num = '', print_=True):\n",
    "    if print_:\n",
    "        print('---Ищем полку---')\n",
    "    if not doc_num:\n",
    "        doc_num = input('Введите номер документа: ')\n",
    "    found = False\n",
    "    for direct in directories:\n",
    "        if doc_num in directories[direct]:\n",
    "            if not print_:\n",
    "                return direct\n",
    "            print(f'Документ хранится на полке {direct}')\n",
    "            found = True\n",
    "    if not found:\n",
    "        if not print_:\n",
    "            return None\n",
    "        print('Документа с таким номером не существует')"
   ]
  },
  {
   "cell_type": "code",
   "execution_count": 58,
   "id": "ecf97275",
   "metadata": {},
   "outputs": [],
   "source": [
    "def docs_info():\n",
    "    print('---Полная информация по всем документам---')\n",
    "    for doc in documents:\n",
    "        print(f'№{doc[\"number\"]}, тип {doc[\"type\"]}, владелец {doc[\"name\"]}, полка {find_dir(doc[\"number\"], print_=False)}')"
   ]
  },
  {
   "cell_type": "code",
   "execution_count": 59,
   "id": "780740ab",
   "metadata": {},
   "outputs": [],
   "source": [
    "def add_directory(print_=True):\n",
    "    if print_:\n",
    "        print('---Добавляем полку---')\n",
    "    dir_num = input('Введите номер полки: ')\n",
    "    if dir_num not in directories.keys():\n",
    "        directories[dir_num] = []\n",
    "        print(f'Полка добавлена. Текущий перечень полок: {list(directories.keys())}')\n",
    "    else:\n",
    "        print(f'Полка с таким номером уже существует, текущий перечень полок: {list(directories.keys())}, давайте еще раз')\n",
    "        add_directory(print_=False)"
   ]
  },
  {
   "cell_type": "code",
   "execution_count": 71,
   "id": "e9ad1699",
   "metadata": {},
   "outputs": [],
   "source": [
    "def del_directory():\n",
    "    print('---Удаляем полку---')\n",
    "    dir_num = input('Введите номер полки: ')\n",
    "    if dir_num in directories: \n",
    "        if len(directories[dir_num]) == 0:\n",
    "            directories.pop(dir_num)\n",
    "            print(f'Полка удалена. Текущий перечень полок: {list(directories.keys())}')\n",
    "        else:\n",
    "            print(f'На полке есть документа, удалите их перед удалением полки. Текущий перечень полок: {list(directories.keys())}')\n",
    "    else:\n",
    "        print(f'Такой полки не существует. Текущий перечень полок: {list(directories.keys())}')\n",
    "    "
   ]
  },
  {
   "cell_type": "code",
   "execution_count": 72,
   "id": "d415ab16",
   "metadata": {
    "scrolled": false
   },
   "outputs": [
    {
     "name": "stdout",
     "output_type": "stream",
     "text": [
      "Введите команду>>> вы\n",
      "Введите команду>>> ds\n",
      "---Удаляем полку---\n",
      "Введите номер полки: 1\n",
      "На полке есть документа, удалите их перед удалением полки. Текущий перечень полок: ['1', '2', '3', '4', '5']\n",
      "Введите команду>>> ds\n",
      "---Удаляем полку---\n",
      "Введите номер полки: 5\n",
      "Полка удалена. Текущий перечень полок: ['1', '2', '3', '4']\n",
      "Введите команду>>> q\n",
      "До свидания!\n"
     ]
    }
   ],
   "source": [
    "while True:\n",
    "    command = input('Введите команду>>> ')\n",
    "    if command == 'p':\n",
    "       find_owner()\n",
    "    elif command == 's':\n",
    "       find_dir()\n",
    "    elif command == 'l':\n",
    "       docs_info()\n",
    "    elif command == 'as':\n",
    "        add_directory()\n",
    "    elif command == 'ds':\n",
    "        del_directory()\n",
    "    elif command == 'q':\n",
    "        print('До свидания!')\n",
    "        break\n",
    "        "
   ]
  },
  {
   "cell_type": "code",
   "execution_count": null,
   "id": "41f478a7",
   "metadata": {},
   "outputs": [],
   "source": []
  }
 ],
 "metadata": {
  "kernelspec": {
   "display_name": "Python 3",
   "language": "python",
   "name": "python3"
  },
  "language_info": {
   "codemirror_mode": {
    "name": "ipython",
    "version": 3
   },
   "file_extension": ".py",
   "mimetype": "text/x-python",
   "name": "python",
   "nbconvert_exporter": "python",
   "pygments_lexer": "ipython3",
   "version": "3.8.6"
  }
 },
 "nbformat": 4,
 "nbformat_minor": 5
}
