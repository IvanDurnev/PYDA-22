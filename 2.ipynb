{
 "cells": [
  {
   "cell_type": "markdown",
   "id": "a8473076",
   "metadata": {},
   "source": [
    "<h1>Домашнее задание «Управляющие конструкции и коллекции» часть 1</h1>"
   ]
  },
  {
   "cell_type": "markdown",
   "id": "92dc0fb8",
   "metadata": {},
   "source": [
    "<h2>Задание 1</h2>"
   ]
  },
  {
   "cell_type": "code",
   "execution_count": 11,
   "id": "04211921",
   "metadata": {
    "scrolled": true
   },
   "outputs": [
    {
     "name": "stdout",
     "output_type": "stream",
     "text": [
      "t\n"
     ]
    }
   ],
   "source": [
    "word = 'testing'\n",
    "index = int((len(word)-1)/2)\n",
    "\n",
    "if len(word)%2 > 0:\n",
    "    print(word[index])\n",
    "else:\n",
    "    print(word[index]+word[index+1])"
   ]
  },
  {
   "cell_type": "markdown",
   "id": "3d0e7090",
   "metadata": {},
   "source": [
    "<h2>Задание 2</h2>"
   ]
  },
  {
   "cell_type": "code",
   "execution_count": 19,
   "id": "7ba3422d",
   "metadata": {},
   "outputs": [
    {
     "name": "stdout",
     "output_type": "stream",
     "text": [
      "Введите число: 123\n",
      "Введите число: 1\n",
      "Введите число: 0\n",
      "Сумма введенных чисел = 124\n"
     ]
    }
   ],
   "source": [
    "i = 1\n",
    "s = 0\n",
    "while i != '0':\n",
    "    i = input('Введите число: ')\n",
    "    s += int(i)\n",
    "print(f'Сумма введенных чисел = {s}')"
   ]
  },
  {
   "cell_type": "markdown",
   "id": "44937e69",
   "metadata": {},
   "source": [
    "<h2>Задание 3</h2>"
   ]
  },
  {
   "cell_type": "code",
   "execution_count": 28,
   "id": "7caccd67",
   "metadata": {
    "scrolled": false
   },
   "outputs": [
    {
     "name": "stdout",
     "output_type": "stream",
     "text": [
      "Идеальные пары:\n",
      "Alex и Emma\n",
      "Arthur и Kate\n",
      "John и Kira\n",
      "Peter и Liza\n",
      "Richard и Trisha\n"
     ]
    }
   ],
   "source": [
    "boys = ['Peter', 'Alex', 'John', 'Arthur', 'Richard']\n",
    "girls = ['Kate', 'Liza', 'Kira', 'Emma', 'Trisha']\n",
    "\n",
    "\n",
    "if len(boys) == len(girls):\n",
    "    boys.sort()\n",
    "    girls.sort()\n",
    "    print('Идеальные пары:')\n",
    "    for i in range(len(boys)):\n",
    "        print(f'{boys[i]} и {girls[i]}')\n",
    "else:\n",
    "    print('Кто-то может остаться без пары')"
   ]
  },
  {
   "cell_type": "markdown",
   "id": "a1e9f30a",
   "metadata": {},
   "source": [
    "<h2>Задание 4</h2>"
   ]
  },
  {
   "cell_type": "code",
   "execution_count": 33,
   "id": "d646b129",
   "metadata": {},
   "outputs": [
    {
     "name": "stdout",
     "output_type": "stream",
     "text": [
      "Средняя температура в странах:\n",
      "Thailand - 23.857142857142854\n",
      "Germany - 13.799999999999997\n",
      "Russia - 3.7142857142857166\n",
      "Poland - 11.999999999999996\n"
     ]
    }
   ],
   "source": [
    "countries_temperature = [\n",
    "['Thailand', [75.2, 77, 78.8, 73.4, 68, 75.2, 77]],\n",
    "['Germany', [57.2, 55.4, 59, 59, 53.6]],\n",
    "['Russia', [35.6, 37.4, 39.2, 41, 42.8, 39.2, 35.6]],\n",
    "['Poland', [50, 50, 53.6, 57.2, 55.4, 55.4]]\n",
    "]\n",
    "\n",
    "print('Средняя температура в странах:')\n",
    "for country in countries_temperature:\n",
    "    print(f'{country[0]} - {round((sum(country[1])/len(country[1])-32)/1.8)}')"
   ]
  }
 ],
 "metadata": {
  "kernelspec": {
   "display_name": "Python 3",
   "language": "python",
   "name": "python3"
  },
  "language_info": {
   "codemirror_mode": {
    "name": "ipython",
    "version": 3
   },
   "file_extension": ".py",
   "mimetype": "text/x-python",
   "name": "python",
   "nbconvert_exporter": "python",
   "pygments_lexer": "ipython3",
   "version": "3.8.6"
  }
 },
 "nbformat": 4,
 "nbformat_minor": 5
}
